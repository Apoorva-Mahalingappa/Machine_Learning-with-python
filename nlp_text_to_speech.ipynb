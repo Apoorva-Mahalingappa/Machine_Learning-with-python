{
  "nbformat": 4,
  "nbformat_minor": 0,
  "metadata": {
    "kernelspec": {
      "display_name": "Python 3",
      "language": "python",
      "name": "python3"
    },
    "language_info": {
      "codemirror_mode": {
        "name": "ipython",
        "version": 3
      },
      "file_extension": ".py",
      "mimetype": "text/x-python",
      "name": "python",
      "nbconvert_exporter": "python",
      "pygments_lexer": "ipython3",
      "version": "3.7.4"
    },
    "colab": {
      "name": "nlp_text_to_speech.ipynb",
      "provenance": [],
      "include_colab_link": true
    }
  },
  "cells": [
    {
      "cell_type": "markdown",
      "metadata": {
        "id": "view-in-github",
        "colab_type": "text"
      },
      "source": [
        "<a href=\"https://colab.research.google.com/github/Apoorva-Mahalingappa/Machine_Learning-with-python/blob/master/nlp_text_to_speech.ipynb\" target=\"_parent\"><img src=\"https://colab.research.google.com/assets/colab-badge.svg\" alt=\"Open In Colab\"/></a>"
      ]
    },
    {
      "cell_type": "code",
      "metadata": {
        "id": "G8X7h9IiSpq_",
        "colab_type": "code",
        "colab": {}
      },
      "source": [
        "import nltk"
      ],
      "execution_count": null,
      "outputs": []
    },
    {
      "cell_type": "code",
      "metadata": {
        "id": "nbZ--kgzSprS",
        "colab_type": "code",
        "colab": {}
      },
      "source": [
        "import nltk.corpus"
      ],
      "execution_count": null,
      "outputs": []
    },
    {
      "cell_type": "code",
      "metadata": {
        "id": "MTDG62-iSprc",
        "colab_type": "code",
        "colab": {}
      },
      "source": [
        "#Tokenization"
      ],
      "execution_count": null,
      "outputs": []
    },
    {
      "cell_type": "code",
      "metadata": {
        "id": "ysm1XCFSSprn",
        "colab_type": "code",
        "colab": {}
      },
      "source": [
        "from nltk.tokenize import word_tokenize"
      ],
      "execution_count": null,
      "outputs": []
    },
    {
      "cell_type": "code",
      "metadata": {
        "id": "e3V5xKVFSpry",
        "colab_type": "code",
        "colab": {}
      },
      "source": [
        "chess = \"Samay Raina is the best chess streamer in the world\""
      ],
      "execution_count": null,
      "outputs": []
    },
    {
      "cell_type": "code",
      "metadata": {
        "id": "4_I1KJdWSpr9",
        "colab_type": "code",
        "colab": {
          "base_uri": "https://localhost:8080/",
          "height": 218
        },
        "outputId": "01f372ac-ec06-4b51-b9b5-4cd086258bc0"
      },
      "source": [
        "nltk.download('punkt')\n",
        "word_tokenize(chess)"
      ],
      "execution_count": null,
      "outputs": [
        {
          "output_type": "stream",
          "text": [
            "[nltk_data] Downloading package punkt to /root/nltk_data...\n",
            "[nltk_data]   Unzipping tokenizers/punkt.zip.\n"
          ],
          "name": "stdout"
        },
        {
          "output_type": "execute_result",
          "data": {
            "text/plain": [
              "['Samay',\n",
              " 'Raina',\n",
              " 'is',\n",
              " 'the',\n",
              " 'best',\n",
              " 'chess',\n",
              " 'streamer',\n",
              " 'in',\n",
              " 'the',\n",
              " 'world']"
            ]
          },
          "metadata": {
            "tags": []
          },
          "execution_count": 7
        }
      ]
    },
    {
      "cell_type": "code",
      "metadata": {
        "id": "jZg1Fr4iSpsG",
        "colab_type": "code",
        "colab": {}
      },
      "source": [
        "#sentence tokenizer\n",
        "from nltk.tokenize import sent_tokenize"
      ],
      "execution_count": null,
      "outputs": []
    },
    {
      "cell_type": "code",
      "metadata": {
        "id": "hZru1qA5SpsP",
        "colab_type": "code",
        "colab": {}
      },
      "source": [
        "chess2 = \"Samay Raina is the best chess streamer in the world. Sagar Shah is the best chess coach in the world\""
      ],
      "execution_count": null,
      "outputs": []
    },
    {
      "cell_type": "code",
      "metadata": {
        "id": "YSbTYusWSpsY",
        "colab_type": "code",
        "colab": {
          "base_uri": "https://localhost:8080/",
          "height": 50
        },
        "outputId": "4b561058-7652-476c-e0da-f729114f08bd"
      },
      "source": [
        "sent_tokenize(chess2)"
      ],
      "execution_count": null,
      "outputs": [
        {
          "output_type": "execute_result",
          "data": {
            "text/plain": [
              "['Samay Raina is the best chess streamer in the world.',\n",
              " 'Sagar Shah is the best chess coach in the world']"
            ]
          },
          "metadata": {
            "tags": []
          },
          "execution_count": 10
        }
      ]
    },
    {
      "cell_type": "code",
      "metadata": {
        "id": "mgB0QL3dSpsi",
        "colab_type": "code",
        "colab": {
          "base_uri": "https://localhost:8080/",
          "height": 34
        },
        "outputId": "e08aaa18-2e27-462e-b629-8d5ea74f8507"
      },
      "source": [
        "#Checking the number of tokens\n",
        "len(word_tokenize(chess))"
      ],
      "execution_count": null,
      "outputs": [
        {
          "output_type": "execute_result",
          "data": {
            "text/plain": [
              "10"
            ]
          },
          "metadata": {
            "tags": []
          },
          "execution_count": 11
        }
      ]
    },
    {
      "cell_type": "code",
      "metadata": {
        "id": "tpIV2_69Spsp",
        "colab_type": "code",
        "colab": {}
      },
      "source": [
        "#bigrams and n-grams"
      ],
      "execution_count": null,
      "outputs": []
    },
    {
      "cell_type": "code",
      "metadata": {
        "id": "WsQhmCTPSpsw",
        "colab_type": "code",
        "colab": {}
      },
      "source": [
        "astronaut = \"Can anybody hear me or am I talking to myself? My mind is running empty in the search for someone else\""
      ],
      "execution_count": null,
      "outputs": []
    },
    {
      "cell_type": "code",
      "metadata": {
        "id": "u4nUls32Sps4",
        "colab_type": "code",
        "colab": {}
      },
      "source": [
        "astronaut_token=(word_tokenize(astronaut))"
      ],
      "execution_count": null,
      "outputs": []
    },
    {
      "cell_type": "code",
      "metadata": {
        "id": "TJ0te76SSps_",
        "colab_type": "code",
        "colab": {
          "base_uri": "https://localhost:8080/",
          "height": 370
        },
        "outputId": "bc6f5e5f-b267-4036-fed7-97e91f3e50cb"
      },
      "source": [
        "list(nltk.bigrams(astronaut_token))"
      ],
      "execution_count": null,
      "outputs": [
        {
          "output_type": "execute_result",
          "data": {
            "text/plain": [
              "[('Can', 'anybody'),\n",
              " ('anybody', 'hear'),\n",
              " ('hear', 'me'),\n",
              " ('me', 'or'),\n",
              " ('or', 'am'),\n",
              " ('am', 'I'),\n",
              " ('I', 'talking'),\n",
              " ('talking', 'to'),\n",
              " ('to', 'myself'),\n",
              " ('myself', '?'),\n",
              " ('?', 'My'),\n",
              " ('My', 'mind'),\n",
              " ('mind', 'is'),\n",
              " ('is', 'running'),\n",
              " ('running', 'empty'),\n",
              " ('empty', 'in'),\n",
              " ('in', 'the'),\n",
              " ('the', 'search'),\n",
              " ('search', 'for'),\n",
              " ('for', 'someone'),\n",
              " ('someone', 'else')]"
            ]
          },
          "metadata": {
            "tags": []
          },
          "execution_count": 16
        }
      ]
    },
    {
      "cell_type": "code",
      "metadata": {
        "id": "FQufbjIISptJ",
        "colab_type": "code",
        "colab": {
          "base_uri": "https://localhost:8080/",
          "height": 353
        },
        "outputId": "3bcecf48-18d4-4e3e-817d-6ed01ce66208"
      },
      "source": [
        "list(nltk.trigrams(astronaut_token))"
      ],
      "execution_count": null,
      "outputs": [
        {
          "output_type": "execute_result",
          "data": {
            "text/plain": [
              "[('Can', 'anybody', 'hear'),\n",
              " ('anybody', 'hear', 'me'),\n",
              " ('hear', 'me', 'or'),\n",
              " ('me', 'or', 'am'),\n",
              " ('or', 'am', 'I'),\n",
              " ('am', 'I', 'talking'),\n",
              " ('I', 'talking', 'to'),\n",
              " ('talking', 'to', 'myself'),\n",
              " ('to', 'myself', '?'),\n",
              " ('myself', '?', 'My'),\n",
              " ('?', 'My', 'mind'),\n",
              " ('My', 'mind', 'is'),\n",
              " ('mind', 'is', 'running'),\n",
              " ('is', 'running', 'empty'),\n",
              " ('running', 'empty', 'in'),\n",
              " ('empty', 'in', 'the'),\n",
              " ('in', 'the', 'search'),\n",
              " ('the', 'search', 'for'),\n",
              " ('search', 'for', 'someone'),\n",
              " ('for', 'someone', 'else')]"
            ]
          },
          "metadata": {
            "tags": []
          },
          "execution_count": 17
        }
      ]
    },
    {
      "cell_type": "code",
      "metadata": {
        "id": "T3e7__CgSptR",
        "colab_type": "code",
        "colab": {
          "base_uri": "https://localhost:8080/",
          "height": 319
        },
        "outputId": "298f6865-e5b8-4223-b2c3-b3f23e554874"
      },
      "source": [
        "list(nltk.ngrams(astronaut_token,5))"
      ],
      "execution_count": null,
      "outputs": [
        {
          "output_type": "execute_result",
          "data": {
            "text/plain": [
              "[('Can', 'anybody', 'hear', 'me', 'or'),\n",
              " ('anybody', 'hear', 'me', 'or', 'am'),\n",
              " ('hear', 'me', 'or', 'am', 'I'),\n",
              " ('me', 'or', 'am', 'I', 'talking'),\n",
              " ('or', 'am', 'I', 'talking', 'to'),\n",
              " ('am', 'I', 'talking', 'to', 'myself'),\n",
              " ('I', 'talking', 'to', 'myself', '?'),\n",
              " ('talking', 'to', 'myself', '?', 'My'),\n",
              " ('to', 'myself', '?', 'My', 'mind'),\n",
              " ('myself', '?', 'My', 'mind', 'is'),\n",
              " ('?', 'My', 'mind', 'is', 'running'),\n",
              " ('My', 'mind', 'is', 'running', 'empty'),\n",
              " ('mind', 'is', 'running', 'empty', 'in'),\n",
              " ('is', 'running', 'empty', 'in', 'the'),\n",
              " ('running', 'empty', 'in', 'the', 'search'),\n",
              " ('empty', 'in', 'the', 'search', 'for'),\n",
              " ('in', 'the', 'search', 'for', 'someone'),\n",
              " ('the', 'search', 'for', 'someone', 'else')]"
            ]
          },
          "metadata": {
            "tags": []
          },
          "execution_count": 18
        }
      ]
    },
    {
      "cell_type": "code",
      "metadata": {
        "id": "M9S3YEyBSpta",
        "colab_type": "code",
        "colab": {}
      },
      "source": [
        "#Stemming"
      ],
      "execution_count": null,
      "outputs": []
    },
    {
      "cell_type": "code",
      "metadata": {
        "id": "HAXAz39vSpth",
        "colab_type": "code",
        "colab": {}
      },
      "source": [
        "from nltk.stem import PorterStemmer"
      ],
      "execution_count": null,
      "outputs": []
    },
    {
      "cell_type": "code",
      "metadata": {
        "id": "6WEsrvQuSpt1",
        "colab_type": "code",
        "colab": {}
      },
      "source": [
        "my_stem = PorterStemmer()"
      ],
      "execution_count": null,
      "outputs": []
    },
    {
      "cell_type": "code",
      "metadata": {
        "id": "tzqMW93NSpt_",
        "colab_type": "code",
        "colab": {
          "base_uri": "https://localhost:8080/",
          "height": 35
        },
        "outputId": "e1b42ffe-0892-4060-ba52-b2644264150e"
      },
      "source": [
        "my_stem.stem(\"eating\")"
      ],
      "execution_count": null,
      "outputs": [
        {
          "output_type": "execute_result",
          "data": {
            "application/vnd.google.colaboratory.intrinsic": {
              "type": "string"
            },
            "text/plain": [
              "'eat'"
            ]
          },
          "metadata": {
            "tags": []
          },
          "execution_count": 22
        }
      ]
    },
    {
      "cell_type": "code",
      "metadata": {
        "id": "PikDodf7SpuN",
        "colab_type": "code",
        "colab": {
          "base_uri": "https://localhost:8080/",
          "height": 35
        },
        "outputId": "57ea787d-8560-429e-cf05-e28d9ade782d"
      },
      "source": [
        "my_stem.stem(\"going\")"
      ],
      "execution_count": null,
      "outputs": [
        {
          "output_type": "execute_result",
          "data": {
            "application/vnd.google.colaboratory.intrinsic": {
              "type": "string"
            },
            "text/plain": [
              "'go'"
            ]
          },
          "metadata": {
            "tags": []
          },
          "execution_count": 23
        }
      ]
    },
    {
      "cell_type": "code",
      "metadata": {
        "id": "9B_IElL5Spud",
        "colab_type": "code",
        "colab": {
          "base_uri": "https://localhost:8080/",
          "height": 35
        },
        "outputId": "7997b34d-82a3-474b-ff6b-d0bc47949921"
      },
      "source": [
        "my_stem.stem(\"shopping\")"
      ],
      "execution_count": null,
      "outputs": [
        {
          "output_type": "execute_result",
          "data": {
            "application/vnd.google.colaboratory.intrinsic": {
              "type": "string"
            },
            "text/plain": [
              "'shop'"
            ]
          },
          "metadata": {
            "tags": []
          },
          "execution_count": 24
        }
      ]
    },
    {
      "cell_type": "code",
      "metadata": {
        "id": "v2j8oOtWSpur",
        "colab_type": "code",
        "colab": {}
      },
      "source": [
        "#pos-tagging"
      ],
      "execution_count": null,
      "outputs": []
    },
    {
      "cell_type": "code",
      "metadata": {
        "id": "x3evcXTISpu6",
        "colab_type": "code",
        "colab": {}
      },
      "source": [
        "tom =\"Tom Hanks is the best actor in the world\""
      ],
      "execution_count": null,
      "outputs": []
    },
    {
      "cell_type": "code",
      "metadata": {
        "id": "g0kdPdL7SpvH",
        "colab_type": "code",
        "colab": {}
      },
      "source": [
        "tom_token = word_tokenize(tom)"
      ],
      "execution_count": null,
      "outputs": []
    },
    {
      "cell_type": "code",
      "metadata": {
        "id": "O_J2BmmnSpvU",
        "colab_type": "code",
        "colab": {
          "base_uri": "https://localhost:8080/",
          "height": 218
        },
        "outputId": "9f7237e5-f73c-460e-c2db-997c8db9c3a7"
      },
      "source": [
        " nltk.download('averaged_perceptron_tagger')\n",
        " nltk.pos_tag(tom_token)"
      ],
      "execution_count": null,
      "outputs": [
        {
          "output_type": "stream",
          "text": [
            "[nltk_data] Downloading package averaged_perceptron_tagger to\n",
            "[nltk_data]     /root/nltk_data...\n",
            "[nltk_data]   Unzipping taggers/averaged_perceptron_tagger.zip.\n"
          ],
          "name": "stdout"
        },
        {
          "output_type": "execute_result",
          "data": {
            "text/plain": [
              "[('Tom', 'NNP'),\n",
              " ('Hanks', 'NNP'),\n",
              " ('is', 'VBZ'),\n",
              " ('the', 'DT'),\n",
              " ('best', 'JJS'),\n",
              " ('actor', 'NN'),\n",
              " ('in', 'IN'),\n",
              " ('the', 'DT'),\n",
              " ('world', 'NN')]"
            ]
          },
          "metadata": {
            "tags": []
          },
          "execution_count": 28
        }
      ]
    },
    {
      "cell_type": "code",
      "metadata": {
        "id": "rZVJYC5ZSpvm",
        "colab_type": "code",
        "colab": {}
      },
      "source": [
        "#Named entity recognition"
      ],
      "execution_count": null,
      "outputs": []
    },
    {
      "cell_type": "code",
      "metadata": {
        "id": "rXxuGkCqSpv3",
        "colab_type": "code",
        "colab": {}
      },
      "source": [
        "from nltk import ne_chunk"
      ],
      "execution_count": null,
      "outputs": []
    },
    {
      "cell_type": "code",
      "metadata": {
        "id": "7BpumxaGSpwA",
        "colab_type": "code",
        "colab": {}
      },
      "source": [
        "president = \"Barack Obama was the 44th President of America\""
      ],
      "execution_count": null,
      "outputs": []
    },
    {
      "cell_type": "code",
      "metadata": {
        "id": "OIa0kx3QSpwH",
        "colab_type": "code",
        "colab": {}
      },
      "source": [
        "president_token = word_tokenize(president)"
      ],
      "execution_count": null,
      "outputs": []
    },
    {
      "cell_type": "code",
      "metadata": {
        "id": "5r7YhL2ASpwP",
        "colab_type": "code",
        "colab": {}
      },
      "source": [
        "president_pos = nltk.pos_tag(president_token)"
      ],
      "execution_count": null,
      "outputs": []
    },
    {
      "cell_type": "code",
      "metadata": {
        "id": "tQjr9CWCSpwW",
        "colab_type": "code",
        "colab": {
          "base_uri": "https://localhost:8080/",
          "height": 252
        },
        "outputId": "65a12246-adb4-4bd8-a65c-c5cd4f7d2b41"
      },
      "source": [
        " nltk.download('maxent_ne_chunker')\n",
        " nltk.download('words')\n",
        " print(ne_chunk(president_pos))"
      ],
      "execution_count": null,
      "outputs": [
        {
          "output_type": "stream",
          "text": [
            "[nltk_data] Downloading package maxent_ne_chunker to\n",
            "[nltk_data]     /root/nltk_data...\n",
            "[nltk_data]   Unzipping chunkers/maxent_ne_chunker.zip.\n",
            "[nltk_data] Downloading package words to /root/nltk_data...\n",
            "[nltk_data]   Unzipping corpora/words.zip.\n",
            "(S\n",
            "  (PERSON Barack/NNP)\n",
            "  (PERSON Obama/NNP)\n",
            "  was/VBD\n",
            "  the/DT\n",
            "  44th/JJ\n",
            "  President/NNP\n",
            "  of/IN\n",
            "  (GPE America/NNP))\n"
          ],
          "name": "stdout"
        }
      ]
    },
    {
      "cell_type": "code",
      "metadata": {
        "id": "uw90S_7oSpwa",
        "colab_type": "code",
        "colab": {
          "base_uri": "https://localhost:8080/",
          "height": 336
        },
        "outputId": "4d205a43-2d58-41f0-87c0-8897a02c90ff"
      },
      "source": [
        "!pip install gTTS\n",
        "from gtts import gTTS\n",
        "from IPython.display import Audio"
      ],
      "execution_count": null,
      "outputs": [
        {
          "output_type": "stream",
          "text": [
            "Collecting gTTS\n",
            "  Downloading https://files.pythonhosted.org/packages/a1/0c/4ca77eca3b739a4a08360930643f58d714e302fee0d2f8c654e67d9af8e7/gTTS-2.1.1-py3-none-any.whl\n",
            "Collecting gtts-token>=1.1.3\n",
            "  Downloading https://files.pythonhosted.org/packages/e7/25/ca6e9cd3275bfc3097fe6b06cc31db6d3dfaf32e032e0f73fead9c9a03ce/gTTS-token-1.1.3.tar.gz\n",
            "Requirement already satisfied: click in /usr/local/lib/python3.6/dist-packages (from gTTS) (7.1.2)\n",
            "Requirement already satisfied: beautifulsoup4 in /usr/local/lib/python3.6/dist-packages (from gTTS) (4.6.3)\n",
            "Requirement already satisfied: six in /usr/local/lib/python3.6/dist-packages (from gTTS) (1.12.0)\n",
            "Requirement already satisfied: requests in /usr/local/lib/python3.6/dist-packages (from gTTS) (2.23.0)\n",
            "Requirement already satisfied: certifi>=2017.4.17 in /usr/local/lib/python3.6/dist-packages (from requests->gTTS) (2020.6.20)\n",
            "Requirement already satisfied: chardet<4,>=3.0.2 in /usr/local/lib/python3.6/dist-packages (from requests->gTTS) (3.0.4)\n",
            "Requirement already satisfied: urllib3!=1.25.0,!=1.25.1,<1.26,>=1.21.1 in /usr/local/lib/python3.6/dist-packages (from requests->gTTS) (1.24.3)\n",
            "Requirement already satisfied: idna<3,>=2.5 in /usr/local/lib/python3.6/dist-packages (from requests->gTTS) (2.10)\n",
            "Building wheels for collected packages: gtts-token\n",
            "  Building wheel for gtts-token (setup.py) ... \u001b[?25l\u001b[?25hdone\n",
            "  Created wheel for gtts-token: filename=gTTS_token-1.1.3-cp36-none-any.whl size=4097 sha256=089d8187b52237b1f2b358123e67d1cb8a54f2dbea31821d2a92521339d0e96b\n",
            "  Stored in directory: /root/.cache/pip/wheels/dd/11/61/33f7e51bf545e910552b2255eead2a7cd8ef54064b46dceb34\n",
            "Successfully built gtts-token\n",
            "Installing collected packages: gtts-token, gTTS\n",
            "Successfully installed gTTS-2.1.1 gtts-token-1.1.3\n"
          ],
          "name": "stdout"
        }
      ]
    },
    {
      "cell_type": "code",
      "metadata": {
        "id": "HSh0zwUZSpwf",
        "colab_type": "code",
        "colab": {
          "base_uri": "https://localhost:8080/",
          "height": 75
        },
        "outputId": "6f6962ab-b7d7-4d7a-bcd6-0cf80672490a"
      },
      "source": [
        "tts = gTTS('Heyyyy, did you have your dinner')\n",
        "tts.save('1.wav')\n",
        "sound_file = '1.wav'\n",
        "Audio(sound_file, autoplay=True)"
      ],
      "execution_count": null,
      "outputs": [
        {
          "output_type": "execute_result",
          "data": {
            "text/html": [
              "\n",
              "                <audio controls=\"controls\" autoplay=\"autoplay\">\n",
              "                    <source src=\"data:audio/x-wav;base64,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\" type=\"audio/x-wav\" />\n",
              "                    Your browser does not support the audio element.\n",
              "                </audio>\n",
              "              "
            ],
            "text/plain": [
              "<IPython.lib.display.Audio object>"
            ]
          },
          "metadata": {
            "tags": []
          },
          "execution_count": 37
        }
      ]
    }
  ]
}